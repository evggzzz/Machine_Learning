{
 "metadata": {
  "language_info": {
   "codemirror_mode": {
    "name": "ipython",
    "version": 3
   },
   "file_extension": ".py",
   "mimetype": "text/x-python",
   "name": "python",
   "nbconvert_exporter": "python",
   "pygments_lexer": "ipython3",
   "version": "3.8.0-final"
  },
  "orig_nbformat": 2,
  "kernelspec": {
   "name": "python3",
   "display_name": "Python 3.8.0 64-bit",
   "metadata": {
    "interpreter": {
     "hash": "fe5656c614ed49ae0d940a02e18a4e79e27ac1a6e7394b387f34db37ee0d3976"
    }
   }
  }
 },
 "nbformat": 4,
 "nbformat_minor": 2,
 "cells": [
  {
   "cell_type": "code",
   "execution_count": 3,
   "metadata": {},
   "outputs": [],
   "source": [
    "import sys\n",
    "import numpy as np\n",
    "from sklearn import datasets\n",
    "from sklearn.model_selection import train_test_split\n",
    "from sklearn.metrics import classification_report, accuracy_score, confusion_matrix, precision_score, recall_score, f1_score\n",
    "from sklearn.linear_model import LogisticRegression\n",
    "\n",
    "import pandas as pd"
   ]
  },
  {
   "cell_type": "code",
   "execution_count": 7,
   "metadata": {},
   "outputs": [
    {
     "output_type": "stream",
     "name": "stdout",
     "text": [
      "<class 'sklearn.utils.Bunch'>\n<class 'pandas.core.frame.DataFrame'>\n"
     ]
    }
   ],
   "source": [
    "# データのロード\n",
    "cancer = datasets.load_breast_cancer()\n",
    "print(type(cancer))\n",
    "\n",
    "passenger = pd.read_csv(\"train.csv\")\n",
    "print(type(passenger))"
   ]
  },
  {
   "source": [
    "## CSVファイルをpandasで読み込み、scikit-learnで学習させる\n",
    "(https://kakedashi-engineer.appspot.com/2020/03/21/pandas-sklearn/  より)\n",
    "csvデータをpandasで読み込み、scikit-learnで学習させる方法について解説します。  \n",
    "## numpy.ndarrayへの変換\n",
    "scikit-learnではpandasのDataFrameを直接扱うことができません。  \n",
    "そこで、まずpandas.Dataframeをnumpy.ndarrayに変換します。  \n",
    "これはvalues()メソッドで行うことができます。  "
   ],
   "cell_type": "markdown",
   "metadata": {}
  },
  {
   "cell_type": "code",
   "execution_count": 49,
   "metadata": {},
   "outputs": [
    {
     "output_type": "stream",
     "name": "stdout",
     "text": [
      "<class 'numpy.ndarray'>\n"
     ]
    },
    {
     "output_type": "execute_result",
     "data": {
      "text/plain": [
       "'\\nX_train, X_test, y_train, y_test = train_test_split(X, y, test_size=0.3, random_state=0)\\nclf = MLPClassifier()\\nclf.fit(X_train, y_train)\\nprint (clf.score(X_test, y_test))\\n'"
      ]
     },
     "metadata": {},
     "execution_count": 49
    }
   ],
   "source": [
    "import pandas as pd\n",
    "from sklearn.model_selection import train_test_split\n",
    "from sklearn.neural_network import MLPClassifier\n",
    "\n",
    "# csvをロードする\n",
    "df_train = pd.read_csv('train.csv')\n",
    "\n",
    "# dfをvalueメソッドでndarrayへ変換\n",
    "arr_train = df_train.values\n",
    "\n",
    "# 特徴量\n",
    "X_train = arr_train[:,[0,2,3,4,5,6,7,8,9,10,11]]    #arr_trainから\"Survived\"列だけを除いたndarrayを取得\n",
    "\n",
    "# ラベル()\n",
    "label_train = df_train[\"Survived\"]        #df_trainから\"Survived\"列だけをpd.serriesとして取得\n",
    "y_train = label.values                    #labelをメソッドvalueでndarrayへ変換\n",
    "#print(type(y))\n",
    "\n",
    "\"\"\"\n",
    "X_train, X_test, y_train, y_test = train_test_split(X, y, test_size=0.3, random_state=0)\n",
    "clf = MLPClassifier()\n",
    "clf.fit(X_train, y_train)\n",
    "print (clf.score(X_test, y_test))\n",
    "\"\"\""
   ]
  },
  {
   "cell_type": "code",
   "execution_count": null,
   "metadata": {},
   "outputs": [],
   "source": []
  }
 ]
}